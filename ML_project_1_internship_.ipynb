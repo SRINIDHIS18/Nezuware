{
  "nbformat": 4,
  "nbformat_minor": 0,
  "metadata": {
    "colab": {
      "provenance": []
    },
    "kernelspec": {
      "name": "python3",
      "display_name": "Python 3"
    },
    "language_info": {
      "name": "python"
    }
  },
  "cells": [
    {
      "cell_type": "markdown",
      "source": [
        "**Stock price prediction** -\n",
        "Develop a machine learning model in Python to predict stock prices based on\n",
        "historical data. Utilize techniques such as regression or time series forecasting\n",
        "to analyze features like past prices, trading volumes, and external factors. Train\n",
        "the model on historical stock data and evaluate its performance using\n",
        "appropriate metrics. Implement visualization tools to illustrate the predicted\n",
        "vs. actual prices and provide insights into the model's accuracy. Continuously\n",
        "update and refine the model to improve its predictive capabilities."
      ],
      "metadata": {
        "id": "NOIk8ROiRx0S"
      }
    },
    {
      "cell_type": "markdown",
      "source": [
        "Importing packages"
      ],
      "metadata": {
        "id": "za0PtDmLSM9e"
      }
    },
    {
      "cell_type": "code",
      "source": [
        "import pandas as pd\n",
        "import numpy as np\n",
        "import matplotlib.pyplot as plt\n",
        "import seaborn as sns\n",
        "from sklearn.model_selection import train_test_split\n",
        "from sklearn.metrics import mean_squared_error, mean_absolute_error\n",
        "from sklearn.preprocessing import StandardScaler\n",
        "from sklearn.linear_model import LinearRegression\n",
        "import yfinance as yf"
      ],
      "metadata": {
        "id": "SeuBULZ9R3nn"
      },
      "execution_count": null,
      "outputs": []
    },
    {
      "cell_type": "markdown",
      "source": [
        "Download data for stock prediction"
      ],
      "metadata": {
        "id": "8caliBTPSSHN"
      }
    },
    {
      "cell_type": "code",
      "source": [
        "ticker = 'AAPL'\n",
        "data = yf.download(ticker, start='2010-01-01', end='2023-12-31')\n",
        "data.head()\n"
      ],
      "metadata": {
        "colab": {
          "base_uri": "https://localhost:8080/",
          "height": 255
        },
        "id": "aT2IS3KcSZKY",
        "outputId": "ca2e00b5-c70a-4e02-e8d4-d848dd069e3d"
      },
      "execution_count": null,
      "outputs": [
        {
          "output_type": "stream",
          "name": "stderr",
          "text": [
            "\r[*********************100%***********************]  1 of 1 completed\n"
          ]
        },
        {
          "output_type": "execute_result",
          "data": {
            "text/plain": [
              "                Open      High       Low     Close  Adj Close     Volume\n",
              "Date                                                                    \n",
              "2010-01-04  7.622500  7.660714  7.585000  7.643214   6.454506  493729600\n",
              "2010-01-05  7.664286  7.699643  7.616071  7.656429   6.465666  601904800\n",
              "2010-01-06  7.656429  7.686786  7.526786  7.534643   6.362821  552160000\n",
              "2010-01-07  7.562500  7.571429  7.466071  7.520714   6.351055  477131200\n",
              "2010-01-08  7.510714  7.571429  7.466429  7.570714   6.393281  447610800"
            ],
            "text/html": [
              "\n",
              "  <div id=\"df-b8201753-f03a-4333-b56d-81e1a9e57a5c\" class=\"colab-df-container\">\n",
              "    <div>\n",
              "<style scoped>\n",
              "    .dataframe tbody tr th:only-of-type {\n",
              "        vertical-align: middle;\n",
              "    }\n",
              "\n",
              "    .dataframe tbody tr th {\n",
              "        vertical-align: top;\n",
              "    }\n",
              "\n",
              "    .dataframe thead th {\n",
              "        text-align: right;\n",
              "    }\n",
              "</style>\n",
              "<table border=\"1\" class=\"dataframe\">\n",
              "  <thead>\n",
              "    <tr style=\"text-align: right;\">\n",
              "      <th></th>\n",
              "      <th>Open</th>\n",
              "      <th>High</th>\n",
              "      <th>Low</th>\n",
              "      <th>Close</th>\n",
              "      <th>Adj Close</th>\n",
              "      <th>Volume</th>\n",
              "    </tr>\n",
              "    <tr>\n",
              "      <th>Date</th>\n",
              "      <th></th>\n",
              "      <th></th>\n",
              "      <th></th>\n",
              "      <th></th>\n",
              "      <th></th>\n",
              "      <th></th>\n",
              "    </tr>\n",
              "  </thead>\n",
              "  <tbody>\n",
              "    <tr>\n",
              "      <th>2010-01-04</th>\n",
              "      <td>7.622500</td>\n",
              "      <td>7.660714</td>\n",
              "      <td>7.585000</td>\n",
              "      <td>7.643214</td>\n",
              "      <td>6.454506</td>\n",
              "      <td>493729600</td>\n",
              "    </tr>\n",
              "    <tr>\n",
              "      <th>2010-01-05</th>\n",
              "      <td>7.664286</td>\n",
              "      <td>7.699643</td>\n",
              "      <td>7.616071</td>\n",
              "      <td>7.656429</td>\n",
              "      <td>6.465666</td>\n",
              "      <td>601904800</td>\n",
              "    </tr>\n",
              "    <tr>\n",
              "      <th>2010-01-06</th>\n",
              "      <td>7.656429</td>\n",
              "      <td>7.686786</td>\n",
              "      <td>7.526786</td>\n",
              "      <td>7.534643</td>\n",
              "      <td>6.362821</td>\n",
              "      <td>552160000</td>\n",
              "    </tr>\n",
              "    <tr>\n",
              "      <th>2010-01-07</th>\n",
              "      <td>7.562500</td>\n",
              "      <td>7.571429</td>\n",
              "      <td>7.466071</td>\n",
              "      <td>7.520714</td>\n",
              "      <td>6.351055</td>\n",
              "      <td>477131200</td>\n",
              "    </tr>\n",
              "    <tr>\n",
              "      <th>2010-01-08</th>\n",
              "      <td>7.510714</td>\n",
              "      <td>7.571429</td>\n",
              "      <td>7.466429</td>\n",
              "      <td>7.570714</td>\n",
              "      <td>6.393281</td>\n",
              "      <td>447610800</td>\n",
              "    </tr>\n",
              "  </tbody>\n",
              "</table>\n",
              "</div>\n",
              "    <div class=\"colab-df-buttons\">\n",
              "\n",
              "  <div class=\"colab-df-container\">\n",
              "    <button class=\"colab-df-convert\" onclick=\"convertToInteractive('df-b8201753-f03a-4333-b56d-81e1a9e57a5c')\"\n",
              "            title=\"Convert this dataframe to an interactive table.\"\n",
              "            style=\"display:none;\">\n",
              "\n",
              "  <svg xmlns=\"http://www.w3.org/2000/svg\" height=\"24px\" viewBox=\"0 -960 960 960\">\n",
              "    <path d=\"M120-120v-720h720v720H120Zm60-500h600v-160H180v160Zm220 220h160v-160H400v160Zm0 220h160v-160H400v160ZM180-400h160v-160H180v160Zm440 0h160v-160H620v160ZM180-180h160v-160H180v160Zm440 0h160v-160H620v160Z\"/>\n",
              "  </svg>\n",
              "    </button>\n",
              "\n",
              "  <style>\n",
              "    .colab-df-container {\n",
              "      display:flex;\n",
              "      gap: 12px;\n",
              "    }\n",
              "\n",
              "    .colab-df-convert {\n",
              "      background-color: #E8F0FE;\n",
              "      border: none;\n",
              "      border-radius: 50%;\n",
              "      cursor: pointer;\n",
              "      display: none;\n",
              "      fill: #1967D2;\n",
              "      height: 32px;\n",
              "      padding: 0 0 0 0;\n",
              "      width: 32px;\n",
              "    }\n",
              "\n",
              "    .colab-df-convert:hover {\n",
              "      background-color: #E2EBFA;\n",
              "      box-shadow: 0px 1px 2px rgba(60, 64, 67, 0.3), 0px 1px 3px 1px rgba(60, 64, 67, 0.15);\n",
              "      fill: #174EA6;\n",
              "    }\n",
              "\n",
              "    .colab-df-buttons div {\n",
              "      margin-bottom: 4px;\n",
              "    }\n",
              "\n",
              "    [theme=dark] .colab-df-convert {\n",
              "      background-color: #3B4455;\n",
              "      fill: #D2E3FC;\n",
              "    }\n",
              "\n",
              "    [theme=dark] .colab-df-convert:hover {\n",
              "      background-color: #434B5C;\n",
              "      box-shadow: 0px 1px 3px 1px rgba(0, 0, 0, 0.15);\n",
              "      filter: drop-shadow(0px 1px 2px rgba(0, 0, 0, 0.3));\n",
              "      fill: #FFFFFF;\n",
              "    }\n",
              "  </style>\n",
              "\n",
              "    <script>\n",
              "      const buttonEl =\n",
              "        document.querySelector('#df-b8201753-f03a-4333-b56d-81e1a9e57a5c button.colab-df-convert');\n",
              "      buttonEl.style.display =\n",
              "        google.colab.kernel.accessAllowed ? 'block' : 'none';\n",
              "\n",
              "      async function convertToInteractive(key) {\n",
              "        const element = document.querySelector('#df-b8201753-f03a-4333-b56d-81e1a9e57a5c');\n",
              "        const dataTable =\n",
              "          await google.colab.kernel.invokeFunction('convertToInteractive',\n",
              "                                                    [key], {});\n",
              "        if (!dataTable) return;\n",
              "\n",
              "        const docLinkHtml = 'Like what you see? Visit the ' +\n",
              "          '<a target=\"_blank\" href=https://colab.research.google.com/notebooks/data_table.ipynb>data table notebook</a>'\n",
              "          + ' to learn more about interactive tables.';\n",
              "        element.innerHTML = '';\n",
              "        dataTable['output_type'] = 'display_data';\n",
              "        await google.colab.output.renderOutput(dataTable, element);\n",
              "        const docLink = document.createElement('div');\n",
              "        docLink.innerHTML = docLinkHtml;\n",
              "        element.appendChild(docLink);\n",
              "      }\n",
              "    </script>\n",
              "  </div>\n",
              "\n",
              "\n",
              "<div id=\"df-563695ab-aa5e-4836-a3d7-0c4b04992a22\">\n",
              "  <button class=\"colab-df-quickchart\" onclick=\"quickchart('df-563695ab-aa5e-4836-a3d7-0c4b04992a22')\"\n",
              "            title=\"Suggest charts\"\n",
              "            style=\"display:none;\">\n",
              "\n",
              "<svg xmlns=\"http://www.w3.org/2000/svg\" height=\"24px\"viewBox=\"0 0 24 24\"\n",
              "     width=\"24px\">\n",
              "    <g>\n",
              "        <path d=\"M19 3H5c-1.1 0-2 .9-2 2v14c0 1.1.9 2 2 2h14c1.1 0 2-.9 2-2V5c0-1.1-.9-2-2-2zM9 17H7v-7h2v7zm4 0h-2V7h2v10zm4 0h-2v-4h2v4z\"/>\n",
              "    </g>\n",
              "</svg>\n",
              "  </button>\n",
              "\n",
              "<style>\n",
              "  .colab-df-quickchart {\n",
              "      --bg-color: #E8F0FE;\n",
              "      --fill-color: #1967D2;\n",
              "      --hover-bg-color: #E2EBFA;\n",
              "      --hover-fill-color: #174EA6;\n",
              "      --disabled-fill-color: #AAA;\n",
              "      --disabled-bg-color: #DDD;\n",
              "  }\n",
              "\n",
              "  [theme=dark] .colab-df-quickchart {\n",
              "      --bg-color: #3B4455;\n",
              "      --fill-color: #D2E3FC;\n",
              "      --hover-bg-color: #434B5C;\n",
              "      --hover-fill-color: #FFFFFF;\n",
              "      --disabled-bg-color: #3B4455;\n",
              "      --disabled-fill-color: #666;\n",
              "  }\n",
              "\n",
              "  .colab-df-quickchart {\n",
              "    background-color: var(--bg-color);\n",
              "    border: none;\n",
              "    border-radius: 50%;\n",
              "    cursor: pointer;\n",
              "    display: none;\n",
              "    fill: var(--fill-color);\n",
              "    height: 32px;\n",
              "    padding: 0;\n",
              "    width: 32px;\n",
              "  }\n",
              "\n",
              "  .colab-df-quickchart:hover {\n",
              "    background-color: var(--hover-bg-color);\n",
              "    box-shadow: 0 1px 2px rgba(60, 64, 67, 0.3), 0 1px 3px 1px rgba(60, 64, 67, 0.15);\n",
              "    fill: var(--button-hover-fill-color);\n",
              "  }\n",
              "\n",
              "  .colab-df-quickchart-complete:disabled,\n",
              "  .colab-df-quickchart-complete:disabled:hover {\n",
              "    background-color: var(--disabled-bg-color);\n",
              "    fill: var(--disabled-fill-color);\n",
              "    box-shadow: none;\n",
              "  }\n",
              "\n",
              "  .colab-df-spinner {\n",
              "    border: 2px solid var(--fill-color);\n",
              "    border-color: transparent;\n",
              "    border-bottom-color: var(--fill-color);\n",
              "    animation:\n",
              "      spin 1s steps(1) infinite;\n",
              "  }\n",
              "\n",
              "  @keyframes spin {\n",
              "    0% {\n",
              "      border-color: transparent;\n",
              "      border-bottom-color: var(--fill-color);\n",
              "      border-left-color: var(--fill-color);\n",
              "    }\n",
              "    20% {\n",
              "      border-color: transparent;\n",
              "      border-left-color: var(--fill-color);\n",
              "      border-top-color: var(--fill-color);\n",
              "    }\n",
              "    30% {\n",
              "      border-color: transparent;\n",
              "      border-left-color: var(--fill-color);\n",
              "      border-top-color: var(--fill-color);\n",
              "      border-right-color: var(--fill-color);\n",
              "    }\n",
              "    40% {\n",
              "      border-color: transparent;\n",
              "      border-right-color: var(--fill-color);\n",
              "      border-top-color: var(--fill-color);\n",
              "    }\n",
              "    60% {\n",
              "      border-color: transparent;\n",
              "      border-right-color: var(--fill-color);\n",
              "    }\n",
              "    80% {\n",
              "      border-color: transparent;\n",
              "      border-right-color: var(--fill-color);\n",
              "      border-bottom-color: var(--fill-color);\n",
              "    }\n",
              "    90% {\n",
              "      border-color: transparent;\n",
              "      border-bottom-color: var(--fill-color);\n",
              "    }\n",
              "  }\n",
              "</style>\n",
              "\n",
              "  <script>\n",
              "    async function quickchart(key) {\n",
              "      const quickchartButtonEl =\n",
              "        document.querySelector('#' + key + ' button');\n",
              "      quickchartButtonEl.disabled = true;  // To prevent multiple clicks.\n",
              "      quickchartButtonEl.classList.add('colab-df-spinner');\n",
              "      try {\n",
              "        const charts = await google.colab.kernel.invokeFunction(\n",
              "            'suggestCharts', [key], {});\n",
              "      } catch (error) {\n",
              "        console.error('Error during call to suggestCharts:', error);\n",
              "      }\n",
              "      quickchartButtonEl.classList.remove('colab-df-spinner');\n",
              "      quickchartButtonEl.classList.add('colab-df-quickchart-complete');\n",
              "    }\n",
              "    (() => {\n",
              "      let quickchartButtonEl =\n",
              "        document.querySelector('#df-563695ab-aa5e-4836-a3d7-0c4b04992a22 button');\n",
              "      quickchartButtonEl.style.display =\n",
              "        google.colab.kernel.accessAllowed ? 'block' : 'none';\n",
              "    })();\n",
              "  </script>\n",
              "</div>\n",
              "\n",
              "    </div>\n",
              "  </div>\n"
            ],
            "application/vnd.google.colaboratory.intrinsic+json": {
              "type": "dataframe",
              "variable_name": "data",
              "summary": "{\n  \"name\": \"data\",\n  \"rows\": 3522,\n  \"fields\": [\n    {\n      \"column\": \"Date\",\n      \"properties\": {\n        \"dtype\": \"date\",\n        \"min\": \"2010-01-04 00:00:00\",\n        \"max\": \"2023-12-29 00:00:00\",\n        \"num_unique_values\": 3522,\n        \"samples\": [\n          \"2022-08-30 00:00:00\",\n          \"2017-06-30 00:00:00\",\n          \"2021-10-14 00:00:00\"\n        ],\n        \"semantic_type\": \"\",\n        \"description\": \"\"\n      }\n    },\n    {\n      \"column\": \"Open\",\n      \"properties\": {\n        \"dtype\": \"number\",\n        \"std\": 55.38752019775716,\n        \"min\": 6.870357036590576,\n        \"max\": 198.02000427246094,\n        \"num_unique_values\": 3360,\n        \"samples\": [\n          24.200000762939453,\n          29.21500015258789,\n          31.607500076293945\n        ],\n        \"semantic_type\": \"\",\n        \"description\": \"\"\n      }\n    },\n    {\n      \"column\": \"High\",\n      \"properties\": {\n        \"dtype\": \"number\",\n        \"std\": 56.014466911062826,\n        \"min\": 7.0,\n        \"max\": 199.6199951171875,\n        \"num_unique_values\": 3341,\n        \"samples\": [\n          14.254643440246582,\n          56.342498779296875,\n          20.428571701049805\n        ],\n        \"semantic_type\": \"\",\n        \"description\": \"\"\n      }\n    },\n    {\n      \"column\": \"Low\",\n      \"properties\": {\n        \"dtype\": \"number\",\n        \"std\": 54.812449350737005,\n        \"min\": 6.794642925262451,\n        \"max\": 197.0,\n        \"num_unique_values\": 3363,\n        \"samples\": [\n          23.142499923706055,\n          60.3025016784668,\n          15.020357131958008\n        ],\n        \"semantic_type\": \"\",\n        \"description\": \"\"\n      }\n    },\n    {\n      \"column\": \"Close\",\n      \"properties\": {\n        \"dtype\": \"number\",\n        \"std\": 55.44453292757673,\n        \"min\": 6.85892915725708,\n        \"max\": 198.11000061035156,\n        \"num_unique_values\": 3363,\n        \"samples\": [\n          22.9950008392334,\n          59.102500915527344,\n          15.275713920593262\n        ],\n        \"semantic_type\": \"\",\n        \"description\": \"\"\n      }\n    },\n    {\n      \"column\": \"Adj Close\",\n      \"properties\": {\n        \"dtype\": \"number\",\n        \"std\": 55.64230489076448,\n        \"min\": 5.792196750640869,\n        \"max\": 197.361083984375,\n        \"num_unique_values\": 3473,\n        \"samples\": [\n          170.30055236816406,\n          26.81862449645996,\n          13.292671203613281\n        ],\n        \"semantic_type\": \"\",\n        \"description\": \"\"\n      }\n    },\n    {\n      \"column\": \"Volume\",\n      \"properties\": {\n        \"dtype\": \"number\",\n        \"std\": 220457847,\n        \"min\": 24048300,\n        \"max\": 1880998000,\n        \"num_unique_values\": 3513,\n        \"samples\": [\n          249412800,\n          535110800,\n          212587200\n        ],\n        \"semantic_type\": \"\",\n        \"description\": \"\"\n      }\n    }\n  ]\n}"
            }
          },
          "metadata": {},
          "execution_count": 2
        }
      ]
    },
    {
      "cell_type": "markdown",
      "source": [
        "Preprocess the data"
      ],
      "metadata": {
        "id": "IGZvPMMRSlQT"
      }
    },
    {
      "cell_type": "markdown",
      "source": [
        "feature : moving averages"
      ],
      "metadata": {
        "id": "WhnStn88S0cR"
      }
    },
    {
      "cell_type": "code",
      "source": [
        "data['MA5'] = data['Adj Close'].rolling(window=5).mean()\n",
        "data['MA10'] = data['Adj Close'].rolling(window=10).mean()\n",
        "data['MA20'] = data['Adj Close'].rolling(window=20).mean()\n",
        "print(data['MA5'])\n",
        "print(\"\\n\")\n",
        "print(data['MA10'] )\n",
        "print(\"\\n\")\n",
        "print(data['MA20'])"
      ],
      "metadata": {
        "colab": {
          "base_uri": "https://localhost:8080/"
        },
        "id": "RgTgFvpSS6_Y",
        "outputId": "5c79cfb4-072b-4e95-eb7d-d6bd32d493ab"
      },
      "execution_count": null,
      "outputs": [
        {
          "output_type": "stream",
          "name": "stdout",
          "text": [
            "Date\n",
            "2010-01-04           NaN\n",
            "2010-01-05           NaN\n",
            "2010-01-06           NaN\n",
            "2010-01-07           NaN\n",
            "2010-01-08      6.405466\n",
            "                 ...    \n",
            "2023-12-22    194.450128\n",
            "2023-12-26    193.884277\n",
            "2023-12-27    193.129141\n",
            "2023-12-28    192.880087\n",
            "2023-12-29    192.451718\n",
            "Name: MA5, Length: 3522, dtype: float64\n",
            "\n",
            "\n",
            "Date\n",
            "2010-01-04           NaN\n",
            "2010-01-05           NaN\n",
            "2010-01-06           NaN\n",
            "2010-01-07           NaN\n",
            "2010-01-08           NaN\n",
            "                 ...    \n",
            "2023-12-22    195.007018\n",
            "2023-12-26    194.994069\n",
            "2023-12-27    194.838657\n",
            "2023-12-28    194.402312\n",
            "2023-12-29    193.846422\n",
            "Name: MA10, Length: 3522, dtype: float64\n",
            "\n",
            "\n",
            "Date\n",
            "2010-01-04           NaN\n",
            "2010-01-05           NaN\n",
            "2010-01-06           NaN\n",
            "2010-01-07           NaN\n",
            "2010-01-08           NaN\n",
            "                 ...    \n",
            "2023-12-22    192.936372\n",
            "2023-12-26    193.098757\n",
            "2023-12-27    193.235738\n",
            "2023-12-28    193.445443\n",
            "2023-12-29    193.573956\n",
            "Name: MA20, Length: 3522, dtype: float64\n"
          ]
        }
      ]
    },
    {
      "cell_type": "markdown",
      "source": [
        "delete the missing values"
      ],
      "metadata": {
        "id": "tokYwC9FTASN"
      }
    },
    {
      "cell_type": "code",
      "source": [
        "print(data.dropna(inplace=True))"
      ],
      "metadata": {
        "colab": {
          "base_uri": "https://localhost:8080/"
        },
        "id": "7PlcSvPNTFMQ",
        "outputId": "0f4d96c7-32da-4690-e8b7-eb7009a25bd8"
      },
      "execution_count": null,
      "outputs": [
        {
          "output_type": "stream",
          "name": "stdout",
          "text": [
            "None\n"
          ]
        }
      ]
    },
    {
      "cell_type": "markdown",
      "source": [
        "set feature as (x) and target as(y)"
      ],
      "metadata": {
        "id": "PhgVbblZTMP7"
      }
    },
    {
      "cell_type": "code",
      "source": [
        "X = data[['MA5', 'MA10', 'MA20', 'Volume']]\n",
        "y = data['Adj Close']"
      ],
      "metadata": {
        "id": "LBUDiY5lTbCj"
      },
      "execution_count": null,
      "outputs": []
    },
    {
      "cell_type": "markdown",
      "source": [
        "spilt the  train and test sets"
      ],
      "metadata": {
        "id": "gbeJ9ysYTfz9"
      }
    },
    {
      "cell_type": "code",
      "source": [
        "X_train, X_test, y_train, y_test = train_test_split(X, y, test_size=0.2, shuffle=False)\n",
        "print(X_train)\n",
        "print(\"\\n\")\n",
        "print(y_train)\n",
        "print(\"\\n\")\n",
        "print(X_test)\n",
        "print(\"\\n\")\n",
        "print(y_test)"
      ],
      "metadata": {
        "colab": {
          "base_uri": "https://localhost:8080/"
        },
        "id": "Ab5nKSqOTlda",
        "outputId": "6e09ce3e-cede-4185-d1d9-29e3adcd9561"
      },
      "execution_count": null,
      "outputs": [
        {
          "output_type": "stream",
          "name": "stdout",
          "text": [
            "                   MA5        MA10        MA20     Volume\n",
            "Date                                                     \n",
            "2010-02-01    6.031363    6.139214    6.245075  749876400\n",
            "2010-02-02    5.970561    6.081368    6.217705  698342400\n",
            "2010-02-03    5.918384    6.043668    6.194859  615328000\n",
            "2010-02-04    5.874713    5.995352    6.166328  757652000\n",
            "2010-02-05    5.895221    5.988445    6.143527  850306800\n",
            "...                ...         ...         ...        ...\n",
            "2021-03-12  117.729590  119.308025  122.322734   88105100\n",
            "2021-03-15  119.225668  118.935476  121.764892   92403800\n",
            "2021-03-16  120.104103  118.979594  121.391361  115227900\n",
            "2021-03-17  121.041364  119.244301  121.093324  111932600\n",
            "2021-03-18  120.760977  119.283517  120.643323  121229700\n",
            "\n",
            "[2802 rows x 4 columns]\n",
            "\n",
            "\n",
            "Date\n",
            "2010-02-01      5.873024\n",
            "2010-02-02      5.907105\n",
            "2010-02-03      6.008742\n",
            "2010-02-04      5.792197\n",
            "2010-02-05      5.895039\n",
            "                 ...    \n",
            "2021-03-12    118.657059\n",
            "2021-03-15    121.559013\n",
            "2021-03-16    123.108032\n",
            "2021-03-17    122.313919\n",
            "2021-03-18    118.166862\n",
            "Name: Adj Close, Length: 2802, dtype: float64\n",
            "\n",
            "\n",
            "                   MA5        MA10        MA20     Volume\n",
            "Date                                                     \n",
            "2021-03-19  120.557053  119.143321  120.159009  185549500\n",
            "2021-03-22  120.439406  119.832537  120.031068  111912300\n",
            "2021-03-23  119.845288  119.974696  119.868322   95467100\n",
            "2021-03-24  118.929596  119.985480  119.610479   88530500\n",
            "2021-03-25  118.941356  119.851167  119.590869   98844700\n",
            "...                ...         ...         ...        ...\n",
            "2023-12-22  194.450128  195.007018  192.936372   37122800\n",
            "2023-12-26  193.884277  194.994069  193.098757   28919300\n",
            "2023-12-27  193.129141  194.838657  193.235738   48087700\n",
            "2023-12-28  192.880087  194.402312  193.445443   34049900\n",
            "2023-12-29  192.451718  193.846422  193.573956   42628800\n",
            "\n",
            "[701 rows x 4 columns]\n",
            "\n",
            "\n",
            "Date\n",
            "2021-03-19    117.637436\n",
            "2021-03-22    120.970779\n",
            "2021-03-23    120.137444\n",
            "2021-03-24    117.735458\n",
            "2021-03-25    118.225662\n",
            "                 ...    \n",
            "2023-12-22    192.868134\n",
            "2023-12-26    192.320221\n",
            "2023-12-27    192.419830\n",
            "2023-12-28    192.848221\n",
            "2023-12-29    191.802185\n",
            "Name: Adj Close, Length: 701, dtype: float64\n"
          ]
        }
      ]
    },
    {
      "cell_type": "code",
      "source": [
        "scaler = StandardScaler()\n",
        "X_train_scaled = scaler.fit_transform(X_train)\n",
        "X_test_scaled = scaler.transform(X_test)"
      ],
      "metadata": {
        "id": "5kgo6t9DTrGL"
      },
      "execution_count": null,
      "outputs": []
    },
    {
      "cell_type": "markdown",
      "source": [
        "create a linear regression model , train the model and its predictions"
      ],
      "metadata": {
        "id": "FdR--1VcTspy"
      }
    },
    {
      "cell_type": "code",
      "source": [
        "model = LinearRegression()\n",
        "model.fit(X_train_scaled, y_train)\n",
        "y_pred = model.predict(X_test_scaled)\n",
        "print(y_pred)"
      ],
      "metadata": {
        "colab": {
          "base_uri": "https://localhost:8080/"
        },
        "id": "yDbnHKAxUGCQ",
        "outputId": "e9e56299-22ad-4b61-addb-652769acbc2d"
      },
      "execution_count": null,
      "outputs": [
        {
          "output_type": "stream",
          "name": "stdout",
          "text": [
            "[121.37697951 120.85523093 119.90212697 118.53714449 118.6211514\n",
            " 118.96530154 118.50788066 118.02038588 118.74205003 119.32739128\n",
            " 120.3900033  121.66255676 123.71636541 125.5892319  127.86990554\n",
            " 128.92917798 130.66565822 131.25866409 131.84935451 131.64899539\n",
            " 132.26627349 131.55597314 131.72530712 130.92825733 130.93836684\n",
            " 130.75867049 131.15882311 131.12519191 131.63831387 130.97483755\n",
            " 130.48240558 128.8514319  127.55226572 126.58296521 126.47715885\n",
            " 125.27275943 125.16808383 124.20885093 123.29369594 122.67762571\n",
            " 122.80013952 122.61931708 123.31312481 124.09598789 123.73490011\n",
            " 123.94941184 124.47505195 124.88176087 124.2541413  124.15102248\n",
            " 123.41919307 122.87196388 121.9598208  122.20081897 122.54172426\n",
            " 123.27112225 123.8644519  124.65042878 124.97628957 126.00221452\n",
            " 126.58297095 127.20459445 128.44398526 129.11654645 129.33859271\n",
            " 130.2427948  130.95401586 131.06476886 131.55578058 132.07882091\n",
            " 132.44485544 133.06853147 133.93914731 135.46480173 137.09603024\n",
            " 138.98227274 140.35012181 142.06719771 142.84424747 143.36869854\n",
            " 144.08055744 145.05554385 144.99699225 144.29796478 144.27049978\n",
            " 143.17173652 142.53264996 143.01940547 144.71841589 144.86042627\n",
            " 144.96676942 144.80565638 144.06718367 142.92043071 143.04095771\n",
            " 143.53913822 143.94704633 144.20452146 144.57389962 144.17264667\n",
            " 143.86178117 144.27654131 144.96736831 146.14054385 147.32711484\n",
            " 147.49452408 146.86701172 146.5035635  145.91286491 145.55197851\n",
            " 146.01041332 146.32909042 146.47844687 147.37556322 147.94375574\n",
            " 148.84752074 150.28151996 151.64310276 152.34130714 153.03488365\n",
            " 153.21763434 151.77300976 150.35599919 148.11847485 146.50089648\n",
            " 145.16777615 144.69746986 143.34914446 142.65939432 142.20036305\n",
            " 141.99933339 142.35364312 143.25974054 143.10422619 142.53106901\n",
            " 141.3303517  140.241198   138.59508958 138.45063982 138.37699306\n",
            " 139.0564839  139.32080334 140.4990975  140.61943674 140.38246332\n",
            " 140.3944784  140.84312308 141.55483815 143.28047318 145.34224299\n",
            " 146.69056231 147.51631786 147.83420064 147.61346136 147.10472343\n",
            " 147.56811842 147.64846551 147.64931114 147.80847807 148.48356938\n",
            " 147.95717065 148.32491162 148.73379068 148.95991942 148.03815813\n",
            " 147.44702947 147.0591949  146.8762594  146.87570058 148.3836064\n",
            " 150.93280466 153.55600749 156.24330214 158.75588044 160.52844508\n",
            " 159.77366125 159.18254026 159.66570664 159.97626267 160.01143211\n",
            " 161.2969239  162.56103552 163.79303263 166.14286305 168.69444428\n",
            " 172.72044914 175.00454893 175.51440374 176.06230949 174.9989377\n",
            " 172.13342753 170.20534535 169.75323392 168.69303417 169.80792672\n",
            " 172.48066855 175.10972197 176.74109667 177.56992146 177.70312298\n",
            " 177.67341704 177.31781688 175.93387252 174.31242158 172.95097551\n",
            " 170.49556825 169.3731897  169.74922863 170.09325572 170.58624413\n",
            " 170.50956835 168.61836146 165.93195491 163.54693278 160.72143737\n",
            " 158.40895805 157.25327212 156.50214342 158.8680146  162.60688795\n",
            " 166.65608122 170.84641609 174.38481293 174.52960567 173.16519424\n",
            " 172.52241651 171.86258398 171.02098449 169.99750082 169.47275684\n",
            " 168.9727046  168.05944029 167.319955   167.19872818 166.25250134\n",
            " 163.30954912 161.14644732 160.36775796 159.90223091 159.84383062\n",
            " 162.03154282 163.348381   163.12930676 161.81491823 160.4542805\n",
            " 159.23967147 157.17277552 155.19955907 153.37486006 153.07838664\n",
            " 152.42683471 153.30231687 155.929936   159.91078572 163.33342498\n",
            " 166.0688366  169.21109011 171.33637208 173.05372415 174.81586279\n",
            " 176.11180511 175.5715286  174.95426156 175.15568736 173.74280851\n",
            " 171.95014405 171.36244867 170.40567496 167.25345919 165.70505506\n",
            " 165.69044671 164.18414353 163.19990498 164.24717902 164.51804943\n",
            " 163.62536482 163.10968628 162.81304593 160.14781455 157.56780703\n",
            " 157.06599055 156.21517035 155.11385254 156.26180386 159.04687429\n",
            " 157.50539265 157.65409168 156.50302084 155.20874403 150.04981841\n",
            " 146.97748107 144.51744451 143.20523245 142.14485013 141.70340074\n",
            " 141.09936192 139.2815822  138.99251419 137.09771151 137.28351486\n",
            " 139.05039856 142.41159839 143.88915798 146.32922258 148.87872714\n",
            " 148.90695165 147.43035076 147.09988142 146.48167793 143.86758062\n",
            " 141.78996387 138.50745676 134.66522249 131.66501101 129.05703918\n",
            " 128.12411184 129.8162656  131.23706461 132.554287   135.98020627\n",
            " 138.68758796 138.83458306 139.61268881 139.06341017 137.79413005\n",
            " 137.2454883  138.47332348 139.9802372  142.53449182 144.10464735\n",
            " 145.15808311 145.52583444 145.7038944  145.96045069 146.22115943\n",
            " 147.27719549 148.9986972  150.58513921 151.40023774 152.72607695\n",
            " 152.62891933 153.18108126 153.34864268 155.22161105 157.03118088\n",
            " 159.06059607 161.15702723 163.13268554 163.47951555 163.94706749\n",
            " 164.79238102 165.16908887 165.48290023 166.99463699 168.8709249\n",
            " 170.60563586 171.75403711 173.01018099 172.56253978 170.81893567\n",
            " 169.04753128 167.11278548 165.86176378 163.99057056 162.7916349\n",
            " 161.08598047 158.94641638 156.24227724 154.74804056 153.39642322\n",
            " 153.09089311 152.92313443 153.37757359 155.58258428 155.72159453\n",
            " 155.68403612 155.27403481 153.63667812 151.07378478 151.81632832\n",
            " 151.43907844 151.60541608 151.83717028 151.37578313 149.96463063\n",
            " 149.08211054 146.56867118 143.6006915  141.76370629 140.65285921\n",
            " 140.00525526 141.22135976 142.26017315 142.14969299 140.69521597\n",
            " 138.89830074 138.13258862 137.60263576 138.15900943 139.63827611\n",
            " 141.36258571 141.56258654 143.77560407 145.3648279  147.18678663\n",
            " 148.22029142 148.53986698 150.14870843 150.75969618 149.92736216\n",
            " 148.60287371 147.09290209 142.53148119 138.93023007 136.39302733\n",
            " 134.22170035 136.50412923 140.13527153 143.1314526  146.23841533\n",
            " 150.11365859 150.63286373 150.44601559 149.90186277 149.39268844\n",
            " 149.23148315 148.41798596 146.6036124  144.94210251 144.40704165\n",
            " 143.64096863 143.72357584 144.68337172 145.46217151 143.86777386\n",
            " 142.6650671  141.30741803 140.65843657 141.17505976 142.07198315\n",
            " 140.85152423 139.25259047 136.41818975 133.08267834 131.06453376\n",
            " 130.31200995 130.03310582 130.05876936 129.19041433 128.14366608\n",
            " 127.76832445 126.21329898 125.40967217 125.44725423 125.72285069\n",
            " 125.86947248 127.55617409 129.43551769 131.48077787 132.70166818\n",
            " 134.08191695 134.87081116 134.94247578 135.59437375 136.87175389\n",
            " 138.18688106 139.5801812  141.61354775 143.36575576 143.52589066\n",
            " 143.64299219 144.20402009 145.45611683 147.16397971 149.23275991\n",
            " 151.68761251 153.11693931 152.81702096 151.63202318 151.79301494\n",
            " 151.00782173 151.59707674 152.37503417 152.94759684 151.54891596\n",
            " 150.59282286 148.99373395 147.15370931 145.96519719 145.99186999\n",
            " 145.34584218 144.81082802 146.20907392 147.86745116 148.9386073\n",
            " 150.94431236 152.24809403 151.40902625 150.29155338 150.31447577\n",
            " 149.95438888 150.98374613 152.67929326 154.53782426 156.12356752\n",
            " 157.30352442 157.79857002 158.7620124  158.64253791 157.929874\n",
            " 158.42321286 159.12848203 160.00698156 161.89329028 163.93360323\n",
            " 164.5264939  164.93696664 164.03561595 162.35870717 160.63194422\n",
            " 160.93661614 160.97524055 161.91787608 163.57873847 165.69665415\n",
            " 165.88551391 165.82372713 165.69781027 164.76666957 163.46121529\n",
            " 163.84274627 164.99382927 166.02654813 167.32105913 168.41016682\n",
            " 167.68963472 168.40194729 169.16182485 169.72182355 171.03350178\n",
            " 173.1057875  172.74001243 172.26902339 172.24487127 171.78783724\n",
            " 171.76872108 172.45763025 173.0552552  172.92076054 172.76718962\n",
            " 172.19923451 172.14468859 172.80089203 174.21233396 176.28174331\n",
            " 178.34441158 179.33502617 179.66053095 179.52010543 179.2301601\n",
            " 178.8401519  179.66692966 180.5831688  182.0594177  183.37585855\n",
            " 184.34639563 184.45577916 184.42349953 184.87842393 184.79285851\n",
            " 184.70173564 185.40261666 186.67249451 187.16904542 188.91788296\n",
            " 190.6709844  191.32663239 191.70084616 191.85880066 190.20533432\n",
            " 188.79651092 188.26234785 187.84364814 187.80480587 189.39495048\n",
            " 191.00380313 192.38692855 193.10148859 193.41128702 192.85371858\n",
            " 192.55666802 192.15016499 192.04751735 192.93598696 193.90019034\n",
            " 194.39387423 193.96107264 193.45809471 189.88762128 185.43031669\n",
            " 181.49842203 178.09888514 174.99083057 174.71866171 175.79899171\n",
            " 176.06668427 176.4318027  176.16332803 175.53218633 174.57943033\n",
            " 174.60004973 175.74025103 176.47073557 177.59998021 178.80417772\n",
            " 180.45485034 181.78771143 184.43635967 186.86718255 188.96690924\n",
            " 188.32046105 185.53857998 182.61448471 179.61915367 175.87752402\n",
            " 173.83051614 173.91219562 173.63764219 173.83670697 175.20579427\n",
            " 175.95782855 175.59724585 175.70484044 175.31584713 173.43294081\n",
            " 172.11330239 171.38788868 170.49798091 169.99737323 170.43206253\n",
            " 171.4523408  172.63426674 174.33356597 175.72220231 177.15203199\n",
            " 178.48178603 179.67605635 179.69114747 179.35770213 178.74457412\n",
            " 177.47258435 175.90745122 174.38908301 173.01489329 172.18728977\n",
            " 171.2441025  169.43153011 168.6078035  168.24071973 167.78371078\n",
            " 168.71987471 171.74482825 174.02030545 176.32453245 179.13960384\n",
            " 181.15912756 181.7826294  183.78020495 184.74373459 185.61363035\n",
            " 186.48078947 188.08872586 188.40895748 189.76152453 190.27416738\n",
            " 190.84148464 190.57007673 190.46962408 189.9179324  189.48616718\n",
            " 189.02148892 189.34667846 189.28341087 190.09597496 190.9038814\n",
            " 192.04407208 193.08938529 194.02921364 194.20922274 195.44238388\n",
            " 196.17225503 196.39808253 196.88801662 197.37624415 196.33504088\n",
            " 195.31536078 194.26821668 193.44979749 192.41992448 192.29045449\n",
            " 191.95079119]\n"
          ]
        }
      ]
    },
    {
      "cell_type": "markdown",
      "source": [
        "calculate mse,mae and r2"
      ],
      "metadata": {
        "id": "TkWtqFznUNtq"
      }
    },
    {
      "cell_type": "code",
      "source": [
        "mse = mean_squared_error(y_test, y_pred)\n",
        "mae = mean_absolute_error(y_test, y_pred)\n",
        "r2 = model.score(X_test_scaled, y_test)\n",
        "\n",
        "print(f'MSE: {mse}')\n",
        "print(f'MAE: {mae}')\n",
        "print(f'R2: {r2}')"
      ],
      "metadata": {
        "colab": {
          "base_uri": "https://localhost:8080/"
        },
        "id": "7DklnOvtUVrk",
        "outputId": "888bdc49-2826-4120-ac1a-5faca5ebeeac"
      },
      "execution_count": null,
      "outputs": [
        {
          "output_type": "stream",
          "name": "stdout",
          "text": [
            "MSE: 6.6189434247433505\n",
            "MAE: 1.9860604766218186\n",
            "R2: 0.9823730593188448\n"
          ]
        }
      ]
    },
    {
      "cell_type": "markdown",
      "source": [
        "visulaization of prediction and actual price"
      ],
      "metadata": {
        "id": "A6PG-a57UZF5"
      }
    },
    {
      "cell_type": "code",
      "source": [
        "plt.figure(figsize=(10, 6))\n",
        "plt.plot(data.index[-len(y_test):], y_test, label='Actual Prices')\n",
        "plt.plot(data.index[-len(y_test):], y_pred, label='Predicted Prices', linestyle='dashed')\n",
        "plt.title(f'{ticker} Stock Price Prediction')\n",
        "plt.xlabel('Date')\n",
        "plt.ylabel('Adjusted Close Price')\n",
        "plt.legend()\n",
        "plt.show()\n"
      ],
      "metadata": {
        "colab": {
          "base_uri": "https://localhost:8080/",
          "height": 564
        },
        "id": "bj5uw1BkU0dI",
        "outputId": "8bac39a6-0d35-412c-fae4-028f956ede53"
      },
      "execution_count": null,
      "outputs": [
        {
          "output_type": "display_data",
          "data": {
            "text/plain": [
              "<Figure size 1000x600 with 1 Axes>"
            ],
            "image/png": "[encoded data removed]"
          },
          "metadata": {}
        }
      ]
    }
  ]
}